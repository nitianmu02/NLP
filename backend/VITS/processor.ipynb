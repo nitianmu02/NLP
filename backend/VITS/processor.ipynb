{
 "cells": [
  {
   "cell_type": "markdown",
   "metadata": {},
   "source": [
    "## File list division"
   ]
  },
  {
   "cell_type": "code",
   "execution_count": 5,
   "metadata": {},
   "outputs": [],
   "source": [
    "import random\n",
    "\n",
    "filelist_path = 'filelists/filelist.txt'\n",
    "trn_filels_path = 'filelists/train_filelist.txt'\n",
    "val_filels_path = 'filelists/val_filelist.txt'\n",
    "val_ratio = 0.05\n",
    "filels_by_chara = {}\n",
    "\n",
    "with open(filelist_path, 'r', encoding='utf8') as f:\n",
    "    lines = f.readlines()\n",
    "    for line in lines:\n",
    "        line = line.strip().split('\\t')\n",
    "        sid = line[1]\n",
    "        if sid not in filels_by_chara:\n",
    "            filels_by_chara[sid] = [line]\n",
    "        else:\n",
    "            filels_by_chara[sid].append(line)\n",
    "            \n",
    "val_filewrite_num_ls = [int(len(filels_by_chara[k]) * val_ratio) for k in filels_by_chara.keys()]\n",
    "\n",
    "with open(val_filels_path, 'w', encoding='utf8') as f:\n",
    "    for idx, i in enumerate(val_filewrite_num_ls):\n",
    "        for line in random.sample(filels_by_chara[str(idx)], i):\n",
    "            f.writelines([\"\\t\".join(line) + \"\\n\"])\n",
    "            filels_by_chara[str(idx)].remove(line)\n",
    "\n",
    "with open(trn_filels_path, 'w', encoding='utf8') as f:\n",
    "    for idx in range(len(val_filewrite_num_ls)):\n",
    "        f.writelines([\"\\t\".join(line) + \"\\n\" for line in filels_by_chara[str(idx)]])"
   ]
  },
  {
   "cell_type": "markdown",
   "metadata": {},
   "source": [
    "## File list preprosess"
   ]
  },
  {
   "cell_type": "code",
   "execution_count": 2,
   "metadata": {},
   "outputs": [
    {
     "name": "stdout",
     "output_type": "stream",
     "text": [
      "START: filelists/train_filelist.txt\n",
      "START: filelists/val_filelist.txt\n"
     ]
    }
   ],
   "source": [
    "import argparse\n",
    "import text\n",
    "from utils import load_filepaths_and_text\n",
    "\n",
    "# parser = argparse.ArgumentParser()\n",
    "# parser.add_argument(\"--out_extension\", default=\"cleaned\")\n",
    "# parser.add_argument(\"--text_index\", default=2, type=int)\n",
    "# parser.add_argument(\"--filelists\", nargs=\"+\", default=[\"filelists/train_filelist.txt\", \"filelists/val_filelist.txt\"])\n",
    "# parser.add_argument(\"--text_cleaners\", nargs=\"+\", default=[\"chinese_cleaners2\"])\n",
    "\n",
    "args = {\"out_extension\": \"cleaned\",\n",
    "        \"text_index\": 2,\n",
    "        \"filelists\": [\"filelists/train_filelist.txt\", \"filelists/val_filelist.txt\"],\n",
    "        \"text_cleaners\": [\"chinese_cleaners2\"]}\n",
    "    \n",
    "for filelist in args['filelists']:\n",
    "    print(\"START:\", filelist)\n",
    "    filepaths_and_text = load_filepaths_and_text(filelist)\n",
    "    for i in range(len(filepaths_and_text)):\n",
    "        original_text = filepaths_and_text[i][args['text_index']]\n",
    "        cleaned_text = text._clean_text(original_text, args['text_cleaners'])\n",
    "        filepaths_and_text[i][args['text_index']] = cleaned_text\n",
    "\n",
    "    new_filelist = filelist + \".\" + args['out_extension']\n",
    "    with open(new_filelist, \"w\", encoding=\"utf-8\") as f:\n",
    "        f.writelines([\"\\t\".join(x) + \"\\n\" for x in filepaths_and_text])"
   ]
  },
  {
   "cell_type": "markdown",
   "metadata": {},
   "source": [
    "## Audio resampling"
   ]
  },
  {
   "cell_type": "code",
   "execution_count": 9,
   "metadata": {},
   "outputs": [
    {
     "ename": "LibsndfileError",
     "evalue": "Error opening './src/audio/4001 00189.wav': System error.",
     "output_type": "error",
     "traceback": [
      "\u001b[1;31m---------------------------------------------------------------------------\u001b[0m",
      "\u001b[1;31mLibsndfileError\u001b[0m                           Traceback (most recent call last)",
      "\u001b[1;32me:\\NUS\\IS\\GroupProject\\VITS\\processor.ipynb Cell 6\u001b[0m in \u001b[0;36m<cell line: 14>\u001b[1;34m()\u001b[0m\n\u001b[0;32m     <a href='vscode-notebook-cell:/e%3A/NUS/IS/GroupProject/VITS/processor.ipynb#W5sZmlsZQ%3D%3D?line=11'>12</a>\u001b[0m         new_signal \u001b[39m=\u001b[39m librosa\u001b[39m.\u001b[39mresample(signal, sr, new_sample_rate)\n\u001b[0;32m     <a href='vscode-notebook-cell:/e%3A/NUS/IS/GroupProject/VITS/processor.ipynb#W5sZmlsZQ%3D%3D?line=12'>13</a>\u001b[0m         sf\u001b[39m.\u001b[39mwrite(file_path, new_signal , new_sample_rate)\n\u001b[1;32m---> <a href='vscode-notebook-cell:/e%3A/NUS/IS/GroupProject/VITS/processor.ipynb#W5sZmlsZQ%3D%3D?line=13'>14</a>\u001b[0m resample_rate(\u001b[39m'\u001b[39;49m\u001b[39m./src/audio/\u001b[39;49m\u001b[39m'\u001b[39;49m)\n",
      "\u001b[1;32me:\\NUS\\IS\\GroupProject\\VITS\\processor.ipynb Cell 6\u001b[0m in \u001b[0;36mresample_rate\u001b[1;34m(path, new_sample_rate)\u001b[0m\n\u001b[0;32m     <a href='vscode-notebook-cell:/e%3A/NUS/IS/GroupProject/VITS/processor.ipynb#W5sZmlsZQ%3D%3D?line=10'>11</a>\u001b[0m     \u001b[39mprint\u001b[39m(file_path)\n\u001b[0;32m     <a href='vscode-notebook-cell:/e%3A/NUS/IS/GroupProject/VITS/processor.ipynb#W5sZmlsZQ%3D%3D?line=11'>12</a>\u001b[0m new_signal \u001b[39m=\u001b[39m librosa\u001b[39m.\u001b[39mresample(signal, sr, new_sample_rate)\n\u001b[1;32m---> <a href='vscode-notebook-cell:/e%3A/NUS/IS/GroupProject/VITS/processor.ipynb#W5sZmlsZQ%3D%3D?line=12'>13</a>\u001b[0m sf\u001b[39m.\u001b[39;49mwrite(file_path, new_signal , new_sample_rate)\n",
      "File \u001b[1;32m~\\AppData\\Roaming\\Python\\Python39\\site-packages\\soundfile.py:340\u001b[0m, in \u001b[0;36mwrite\u001b[1;34m(file, data, samplerate, subtype, endian, format, closefd)\u001b[0m\n\u001b[0;32m    338\u001b[0m \u001b[39melse\u001b[39;00m:\n\u001b[0;32m    339\u001b[0m     channels \u001b[39m=\u001b[39m data\u001b[39m.\u001b[39mshape[\u001b[39m1\u001b[39m]\n\u001b[1;32m--> 340\u001b[0m \u001b[39mwith\u001b[39;00m SoundFile(file, \u001b[39m'\u001b[39;49m\u001b[39mw\u001b[39;49m\u001b[39m'\u001b[39;49m, samplerate, channels,\n\u001b[0;32m    341\u001b[0m                subtype, endian, \u001b[39mformat\u001b[39;49m, closefd) \u001b[39mas\u001b[39;00m f:\n\u001b[0;32m    342\u001b[0m     f\u001b[39m.\u001b[39mwrite(data)\n",
      "File \u001b[1;32m~\\AppData\\Roaming\\Python\\Python39\\site-packages\\soundfile.py:655\u001b[0m, in \u001b[0;36mSoundFile.__init__\u001b[1;34m(self, file, mode, samplerate, channels, subtype, endian, format, closefd)\u001b[0m\n\u001b[0;32m    652\u001b[0m \u001b[39mself\u001b[39m\u001b[39m.\u001b[39m_mode \u001b[39m=\u001b[39m mode\n\u001b[0;32m    653\u001b[0m \u001b[39mself\u001b[39m\u001b[39m.\u001b[39m_info \u001b[39m=\u001b[39m _create_info_struct(file, mode, samplerate, channels,\n\u001b[0;32m    654\u001b[0m                                  \u001b[39mformat\u001b[39m, subtype, endian)\n\u001b[1;32m--> 655\u001b[0m \u001b[39mself\u001b[39m\u001b[39m.\u001b[39m_file \u001b[39m=\u001b[39m \u001b[39mself\u001b[39;49m\u001b[39m.\u001b[39;49m_open(file, mode_int, closefd)\n\u001b[0;32m    656\u001b[0m \u001b[39mif\u001b[39;00m \u001b[39mset\u001b[39m(mode)\u001b[39m.\u001b[39missuperset(\u001b[39m'\u001b[39m\u001b[39mr+\u001b[39m\u001b[39m'\u001b[39m) \u001b[39mand\u001b[39;00m \u001b[39mself\u001b[39m\u001b[39m.\u001b[39mseekable():\n\u001b[0;32m    657\u001b[0m     \u001b[39m# Move write position to 0 (like in Python file objects)\u001b[39;00m\n\u001b[0;32m    658\u001b[0m     \u001b[39mself\u001b[39m\u001b[39m.\u001b[39mseek(\u001b[39m0\u001b[39m)\n",
      "File \u001b[1;32m~\\AppData\\Roaming\\Python\\Python39\\site-packages\\soundfile.py:1213\u001b[0m, in \u001b[0;36mSoundFile._open\u001b[1;34m(self, file, mode_int, closefd)\u001b[0m\n\u001b[0;32m   1210\u001b[0m \u001b[39mif\u001b[39;00m file_ptr \u001b[39m==\u001b[39m _ffi\u001b[39m.\u001b[39mNULL:\n\u001b[0;32m   1211\u001b[0m     \u001b[39m# get the actual error code\u001b[39;00m\n\u001b[0;32m   1212\u001b[0m     err \u001b[39m=\u001b[39m _snd\u001b[39m.\u001b[39msf_error(file_ptr)\n\u001b[1;32m-> 1213\u001b[0m     \u001b[39mraise\u001b[39;00m LibsndfileError(err, prefix\u001b[39m=\u001b[39m\u001b[39m\"\u001b[39m\u001b[39mError opening \u001b[39m\u001b[39m{0!r}\u001b[39;00m\u001b[39m: \u001b[39m\u001b[39m\"\u001b[39m\u001b[39m.\u001b[39mformat(\u001b[39mself\u001b[39m\u001b[39m.\u001b[39mname))\n\u001b[0;32m   1214\u001b[0m \u001b[39mif\u001b[39;00m mode_int \u001b[39m==\u001b[39m _snd\u001b[39m.\u001b[39mSFM_WRITE:\n\u001b[0;32m   1215\u001b[0m     \u001b[39m# Due to a bug in libsndfile version <= 1.0.25, frames != 0\u001b[39;00m\n\u001b[0;32m   1216\u001b[0m     \u001b[39m# when opening a named pipe in SFM_WRITE mode.\u001b[39;00m\n\u001b[0;32m   1217\u001b[0m     \u001b[39m# See http://github.com/erikd/libsndfile/issues/77.\u001b[39;00m\n\u001b[0;32m   1218\u001b[0m     \u001b[39mself\u001b[39m\u001b[39m.\u001b[39m_info\u001b[39m.\u001b[39mframes \u001b[39m=\u001b[39m \u001b[39m0\u001b[39m\n",
      "\u001b[1;31mLibsndfileError\u001b[0m: Error opening './src/audio/4001 00189.wav': System error."
     ]
    }
   ],
   "source": [
    "import librosa\n",
    "import os\n",
    "import soundfile as sf\n",
    "def resample_rate(path, new_sample_rate = 22050):\n",
    "    files = os.listdir(path)\n",
    "    for file in files:\n",
    "        file_path = path + file\n",
    "        try:\n",
    "            signal, sr = librosa.load(file_path)\n",
    "        except:\n",
    "            print(file_path)\n",
    "        new_signal = librosa.resample(signal, sr, new_sample_rate)\n",
    "        sf.write(file_path, new_signal , new_sample_rate)\n",
    "resample_rate('./src/audio/')"
   ]
  },
  {
   "cell_type": "code",
   "execution_count": 10,
   "metadata": {},
   "outputs": [],
   "source": [
    "path = './src/audio/'\n",
    "files = os.listdir(path)\n",
    "for file in files:\n",
    "    file_path = path + file\n",
    "    signal, sr = librosa.load(file_path)\n",
    "    if sr != 22050:\n",
    "        print (file_path)\n",
    "    \n"
   ]
  },
  {
   "cell_type": "code",
   "execution_count": null,
   "metadata": {},
   "outputs": [],
   "source": []
  }
 ],
 "metadata": {
  "kernelspec": {
   "display_name": "Python 3.9.12 ('base')",
   "language": "python",
   "name": "python3"
  },
  "language_info": {
   "codemirror_mode": {
    "name": "ipython",
    "version": 3
   },
   "file_extension": ".py",
   "mimetype": "text/x-python",
   "name": "python",
   "nbconvert_exporter": "python",
   "pygments_lexer": "ipython3",
   "version": "3.9.12"
  },
  "orig_nbformat": 4,
  "vscode": {
   "interpreter": {
    "hash": "ad2bdc8ecc057115af97d19610ffacc2b4e99fae6737bb82f5d7fb13d2f2c186"
   }
  }
 },
 "nbformat": 4,
 "nbformat_minor": 2
}
